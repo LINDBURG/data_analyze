{
 "cells": [
  {
   "cell_type": "code",
   "execution_count": 9,
   "metadata": {},
   "outputs": [
    {
     "name": "stdout",
     "output_type": "stream",
     "text": [
      "Matplotlib version 3.1.3\n"
     ]
    }
   ],
   "source": [
    "import pandas as pd\n",
    "import numpy as np\n",
    "import matplotlib\n",
    "import matplotlib.pyplot as plt\n",
    "import os\n",
    "\n",
    "print(\"Matplotlib version\", matplotlib.__version__)\n",
    "%matplotlib inline\n",
    "%config InlineBackend.figure_format = 'retina'"
   ]
  },
  {
   "cell_type": "code",
   "execution_count": 2,
   "metadata": {},
   "outputs": [],
   "source": [
    "path = \"secdata/0427/\""
   ]
  },
  {
   "cell_type": "code",
   "execution_count": 3,
   "metadata": {},
   "outputs": [
    {
     "data": {
      "text/html": [
       "<div>\n",
       "<style scoped>\n",
       "    .dataframe tbody tr th:only-of-type {\n",
       "        vertical-align: middle;\n",
       "    }\n",
       "\n",
       "    .dataframe tbody tr th {\n",
       "        vertical-align: top;\n",
       "    }\n",
       "\n",
       "    .dataframe thead th {\n",
       "        text-align: right;\n",
       "    }\n",
       "</style>\n",
       "<table border=\"1\" class=\"dataframe\">\n",
       "  <thead>\n",
       "    <tr style=\"text-align: right;\">\n",
       "      <th></th>\n",
       "      <th>time</th>\n",
       "      <th>client</th>\n",
       "      <th>port</th>\n",
       "      <th>url</th>\n",
       "      <th>query</th>\n",
       "      <th>resp</th>\n",
       "    </tr>\n",
       "  </thead>\n",
       "  <tbody>\n",
       "    <tr>\n",
       "      <th>0</th>\n",
       "      <td>1182481</td>\n",
       "      <td>8.0.16.9</td>\n",
       "      <td>31936</td>\n",
       "      <td>222.240.246.165.in-addr.arpa</td>\n",
       "      <td>PTR IN</td>\n",
       "      <td>denied\\n</td>\n",
       "    </tr>\n",
       "    <tr>\n",
       "      <th>1</th>\n",
       "      <td>1182481</td>\n",
       "      <td>210.99.78.4</td>\n",
       "      <td>58878</td>\n",
       "      <td>16.131.253.203.in-addr.arpa</td>\n",
       "      <td>PTR IN</td>\n",
       "      <td>denied\\n</td>\n",
       "    </tr>\n",
       "    <tr>\n",
       "      <th>2</th>\n",
       "      <td>1182481</td>\n",
       "      <td>103.16.205.185</td>\n",
       "      <td>45576</td>\n",
       "      <td>64.120.246.165.in-addr.arpa</td>\n",
       "      <td>PTR IN</td>\n",
       "      <td>denied\\n</td>\n",
       "    </tr>\n",
       "    <tr>\n",
       "      <th>3</th>\n",
       "      <td>1182481</td>\n",
       "      <td>192.87.30.51</td>\n",
       "      <td>4972</td>\n",
       "      <td>99.107.241.203.in-addr.arpa</td>\n",
       "      <td>PTR IN</td>\n",
       "      <td>denied\\n</td>\n",
       "    </tr>\n",
       "    <tr>\n",
       "      <th>4</th>\n",
       "      <td>1182481</td>\n",
       "      <td>103.16.205.184</td>\n",
       "      <td>53975</td>\n",
       "      <td>44.120.246.165.in-addr.arpa</td>\n",
       "      <td>PTR IN</td>\n",
       "      <td>denied\\n</td>\n",
       "    </tr>\n",
       "    <tr>\n",
       "      <th>...</th>\n",
       "      <td>...</td>\n",
       "      <td>...</td>\n",
       "      <td>...</td>\n",
       "      <td>...</td>\n",
       "      <td>...</td>\n",
       "      <td>...</td>\n",
       "    </tr>\n",
       "    <tr>\n",
       "      <th>694766</th>\n",
       "      <td>1193960</td>\n",
       "      <td>60.215.138.170</td>\n",
       "      <td>56557</td>\n",
       "      <td>66.83.246.165.in-addr.arpa</td>\n",
       "      <td>PTR IN</td>\n",
       "      <td>denied\\n</td>\n",
       "    </tr>\n",
       "    <tr>\n",
       "      <th>694767</th>\n",
       "      <td>1193960</td>\n",
       "      <td>172.253.5.3</td>\n",
       "      <td>56077</td>\n",
       "      <td>lb._dns-sd._udp.0.88.246.165.in-addr.arpa</td>\n",
       "      <td>PTR IN</td>\n",
       "      <td>denied\\n</td>\n",
       "    </tr>\n",
       "    <tr>\n",
       "      <th>694768</th>\n",
       "      <td>1193960</td>\n",
       "      <td>3.123.44.131</td>\n",
       "      <td>4964</td>\n",
       "      <td>129.182.78.168.in-addr.arpa</td>\n",
       "      <td>PTR IN</td>\n",
       "      <td>denied\\n</td>\n",
       "    </tr>\n",
       "    <tr>\n",
       "      <th>694769</th>\n",
       "      <td>1193960</td>\n",
       "      <td>146.112.137.66</td>\n",
       "      <td>64131</td>\n",
       "      <td>164.5.246.165.in-addr.arpa</td>\n",
       "      <td>PTR IN</td>\n",
       "      <td>denied\\n</td>\n",
       "    </tr>\n",
       "    <tr>\n",
       "      <th>694770</th>\n",
       "      <td>1193960</td>\n",
       "      <td>172.68.241.77</td>\n",
       "      <td>52782</td>\n",
       "      <td>146.169.246.165.in-addr.arpa</td>\n",
       "      <td>PTR IN</td>\n",
       "      <td>denied\\n</td>\n",
       "    </tr>\n",
       "  </tbody>\n",
       "</table>\n",
       "<p>694771 rows × 6 columns</p>\n",
       "</div>"
      ],
      "text/plain": [
       "           time          client   port  \\\n",
       "0       1182481        8.0.16.9  31936   \n",
       "1       1182481     210.99.78.4  58878   \n",
       "2       1182481  103.16.205.185  45576   \n",
       "3       1182481    192.87.30.51   4972   \n",
       "4       1182481  103.16.205.184  53975   \n",
       "...         ...             ...    ...   \n",
       "694766  1193960  60.215.138.170  56557   \n",
       "694767  1193960     172.253.5.3  56077   \n",
       "694768  1193960    3.123.44.131   4964   \n",
       "694769  1193960  146.112.137.66  64131   \n",
       "694770  1193960   172.68.241.77  52782   \n",
       "\n",
       "                                              url   query      resp  \n",
       "0                    222.240.246.165.in-addr.arpa  PTR IN  denied\\n  \n",
       "1                     16.131.253.203.in-addr.arpa  PTR IN  denied\\n  \n",
       "2                     64.120.246.165.in-addr.arpa  PTR IN  denied\\n  \n",
       "3                     99.107.241.203.in-addr.arpa  PTR IN  denied\\n  \n",
       "4                     44.120.246.165.in-addr.arpa  PTR IN  denied\\n  \n",
       "...                                           ...     ...       ...  \n",
       "694766                 66.83.246.165.in-addr.arpa  PTR IN  denied\\n  \n",
       "694767  lb._dns-sd._udp.0.88.246.165.in-addr.arpa  PTR IN  denied\\n  \n",
       "694768                129.182.78.168.in-addr.arpa  PTR IN  denied\\n  \n",
       "694769                 164.5.246.165.in-addr.arpa  PTR IN  denied\\n  \n",
       "694770               146.169.246.165.in-addr.arpa  PTR IN  denied\\n  \n",
       "\n",
       "[694771 rows x 6 columns]"
      ]
     },
     "execution_count": 3,
     "metadata": {},
     "output_type": "execute_result"
    }
   ],
   "source": [
    "rdr = pd.read_csv(path + \"security.craftlog.0.csv\", encoding=\"UTF-8\")\n",
    "rdr"
   ]
  },
  {
   "cell_type": "code",
   "execution_count": 4,
   "metadata": {},
   "outputs": [
    {
     "data": {
      "text/plain": [
       "Index(['time', 'client', 'port', 'url', 'query', 'resp'], dtype='object')"
      ]
     },
     "execution_count": 4,
     "metadata": {},
     "output_type": "execute_result"
    }
   ],
   "source": [
    "rdr.columns"
   ]
  },
  {
   "cell_type": "code",
   "execution_count": 5,
   "metadata": {},
   "outputs": [
    {
     "data": {
      "text/plain": [
       "array([[1182481, '8.0.16.9', 31936, '222.240.246.165.in-addr.arpa',\n",
       "        'PTR IN', 'denied\\n'],\n",
       "       [1182481, '210.99.78.4', 58878, '16.131.253.203.in-addr.arpa',\n",
       "        'PTR IN', 'denied\\n'],\n",
       "       [1182481, '103.16.205.185', 45576, '64.120.246.165.in-addr.arpa',\n",
       "        'PTR IN', 'denied\\n'],\n",
       "       ...,\n",
       "       [1193960, '3.123.44.131', 4964, '129.182.78.168.in-addr.arpa',\n",
       "        'PTR IN', 'denied\\n'],\n",
       "       [1193960, '146.112.137.66', 64131, '164.5.246.165.in-addr.arpa',\n",
       "        'PTR IN', 'denied\\n'],\n",
       "       [1193960, '172.68.241.77', 52782, '146.169.246.165.in-addr.arpa',\n",
       "        'PTR IN', 'denied\\n']], dtype=object)"
      ]
     },
     "execution_count": 5,
     "metadata": {},
     "output_type": "execute_result"
    }
   ],
   "source": [
    "rdr.values"
   ]
  },
  {
   "cell_type": "code",
   "execution_count": 6,
   "metadata": {},
   "outputs": [
    {
     "data": {
      "text/html": [
       "<div>\n",
       "<style scoped>\n",
       "    .dataframe tbody tr th:only-of-type {\n",
       "        vertical-align: middle;\n",
       "    }\n",
       "\n",
       "    .dataframe tbody tr th {\n",
       "        vertical-align: top;\n",
       "    }\n",
       "\n",
       "    .dataframe thead th {\n",
       "        text-align: right;\n",
       "    }\n",
       "</style>\n",
       "<table border=\"1\" class=\"dataframe\">\n",
       "  <thead>\n",
       "    <tr style=\"text-align: right;\">\n",
       "      <th></th>\n",
       "      <th>time</th>\n",
       "      <th>port</th>\n",
       "    </tr>\n",
       "  </thead>\n",
       "  <tbody>\n",
       "    <tr>\n",
       "      <th>count</th>\n",
       "      <td>6.947710e+05</td>\n",
       "      <td>694771.000000</td>\n",
       "    </tr>\n",
       "    <tr>\n",
       "      <th>mean</th>\n",
       "      <td>1.187856e+06</td>\n",
       "      <td>38653.751471</td>\n",
       "    </tr>\n",
       "    <tr>\n",
       "      <th>std</th>\n",
       "      <td>3.048676e+03</td>\n",
       "      <td>18309.631650</td>\n",
       "    </tr>\n",
       "    <tr>\n",
       "      <th>min</th>\n",
       "      <td>1.182481e+06</td>\n",
       "      <td>53.000000</td>\n",
       "    </tr>\n",
       "    <tr>\n",
       "      <th>25%</th>\n",
       "      <td>1.185790e+06</td>\n",
       "      <td>23264.000000</td>\n",
       "    </tr>\n",
       "    <tr>\n",
       "      <th>50%</th>\n",
       "      <td>1.187668e+06</td>\n",
       "      <td>41540.000000</td>\n",
       "    </tr>\n",
       "    <tr>\n",
       "      <th>75%</th>\n",
       "      <td>1.190548e+06</td>\n",
       "      <td>55002.500000</td>\n",
       "    </tr>\n",
       "    <tr>\n",
       "      <th>max</th>\n",
       "      <td>1.193960e+06</td>\n",
       "      <td>65535.000000</td>\n",
       "    </tr>\n",
       "  </tbody>\n",
       "</table>\n",
       "</div>"
      ],
      "text/plain": [
       "               time           port\n",
       "count  6.947710e+05  694771.000000\n",
       "mean   1.187856e+06   38653.751471\n",
       "std    3.048676e+03   18309.631650\n",
       "min    1.182481e+06      53.000000\n",
       "25%    1.185790e+06   23264.000000\n",
       "50%    1.187668e+06   41540.000000\n",
       "75%    1.190548e+06   55002.500000\n",
       "max    1.193960e+06   65535.000000"
      ]
     },
     "execution_count": 6,
     "metadata": {},
     "output_type": "execute_result"
    }
   ],
   "source": [
    "rdr.describe()"
   ]
  },
  {
   "cell_type": "code",
   "execution_count": 7,
   "metadata": {},
   "outputs": [
    {
     "data": {
      "text/plain": [
       "time      694771\n",
       "client    694771\n",
       "port      694771\n",
       "url       694771\n",
       "query     694771\n",
       "resp      694771\n",
       "dtype: int64"
      ]
     },
     "execution_count": 7,
     "metadata": {},
     "output_type": "execute_result"
    }
   ],
   "source": [
    "rdr.count()"
   ]
  },
  {
   "cell_type": "code",
   "execution_count": 11,
   "metadata": {},
   "outputs": [
    {
     "data": {
      "text/plain": [
       "array(['denied\\n'], dtype=object)"
      ]
     },
     "execution_count": 11,
     "metadata": {},
     "output_type": "execute_result"
    }
   ],
   "source": [
    "pd.unique(rdr[\"resp\"].values)"
   ]
  },
  {
   "cell_type": "code",
   "execution_count": 12,
   "metadata": {},
   "outputs": [
    {
     "data": {
      "text/plain": [
       "array(['PTR IN', 'NS IN', 'MX IN', 'AAAA IN', 'A IN', 'DNSKEY IN',\n",
       "       'TXT IN', 'SOA IN', 'SPF IN', 'ANY IN',\n",
       "       ' app-measurement.com sdk-exp A IN', 'CNAME IN', 'DS IN', 'SRV IN',\n",
       "       'CAA IN'], dtype=object)"
      ]
     },
     "execution_count": 12,
     "metadata": {},
     "output_type": "execute_result"
    }
   ],
   "source": [
    "pd.unique(rdr[\"query\"].values)"
   ]
  },
  {
   "cell_type": "code",
   "execution_count": 13,
   "metadata": {},
   "outputs": [
    {
     "data": {
      "text/plain": [
       "['PTR IN',\n",
       " 'NS IN',\n",
       " 'MX IN',\n",
       " 'AAAA IN',\n",
       " 'A IN',\n",
       " 'DNSKEY IN',\n",
       " 'TXT IN',\n",
       " 'SOA IN',\n",
       " 'SPF IN',\n",
       " 'ANY IN',\n",
       " ' app-measurement.com sdk-exp A IN',\n",
       " 'CNAME IN',\n",
       " 'DS IN',\n",
       " 'SRV IN',\n",
       " 'CAA IN']"
      ]
     },
     "execution_count": 13,
     "metadata": {},
     "output_type": "execute_result"
    }
   ],
   "source": [
    "a = list(pd.unique(rdr[\"query\"].values))\n",
    "a"
   ]
  },
  {
   "cell_type": "code",
   "execution_count": null,
   "metadata": {},
   "outputs": [],
   "source": []
  }
 ],
 "metadata": {
  "kernelspec": {
   "display_name": "Python 3",
   "language": "python",
   "name": "python3"
  },
  "language_info": {
   "codemirror_mode": {
    "name": "ipython",
    "version": 3
   },
   "file_extension": ".py",
   "mimetype": "text/x-python",
   "name": "python",
   "nbconvert_exporter": "python",
   "pygments_lexer": "ipython3",
   "version": "3.7.6"
  }
 },
 "nbformat": 4,
 "nbformat_minor": 4
}
