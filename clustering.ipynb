{
 "cells": [
  {
   "cell_type": "code",
   "execution_count": 1,
   "metadata": {},
   "outputs": [],
   "source": [
    "import json\n",
    "import pandas as pd\n",
    "import numpy as np\n",
    "from sklearn.cluster import KMeans\n",
    "import matplotlib.pyplot as plt\n",
    "from mpl_toolkits.mplot3d import Axes3D\n",
    "import seaborn as sns\n",
    "%matplotlib inline"
   ]
  },
  {
   "cell_type": "code",
   "execution_count": 2,
   "metadata": {},
   "outputs": [],
   "source": [
    "path = 'dest_arrange2/data_log(-872586238).json'"
   ]
  },
  {
   "cell_type": "code",
   "execution_count": 3,
   "metadata": {},
   "outputs": [],
   "source": [
    "records = pd.read_json(path)"
   ]
  },
  {
   "cell_type": "code",
   "execution_count": 4,
   "metadata": {
    "scrolled": true
   },
   "outputs": [
    {
     "data": {
      "text/html": [
       "<div>\n",
       "<style scoped>\n",
       "    .dataframe tbody tr th:only-of-type {\n",
       "        vertical-align: middle;\n",
       "    }\n",
       "\n",
       "    .dataframe tbody tr th {\n",
       "        vertical-align: top;\n",
       "    }\n",
       "\n",
       "    .dataframe thead th {\n",
       "        text-align: right;\n",
       "    }\n",
       "</style>\n",
       "<table border=\"1\" class=\"dataframe\">\n",
       "  <thead>\n",
       "    <tr style=\"text-align: right;\">\n",
       "      <th></th>\n",
       "      <th>time_start</th>\n",
       "      <th>source_ip</th>\n",
       "      <th>dest_ip</th>\n",
       "      <th>protocol_n</th>\n",
       "      <th>STRTITLE</th>\n",
       "      <th>source_mac</th>\n",
       "      <th>dest_mac</th>\n",
       "      <th>pkt_size</th>\n",
       "    </tr>\n",
       "  </thead>\n",
       "  <tbody>\n",
       "    <tr>\n",
       "      <th>0</th>\n",
       "      <td>1566277194</td>\n",
       "      <td>-757408877</td>\n",
       "      <td>-872586238</td>\n",
       "      <td>6</td>\n",
       "      <td>tcp null scan</td>\n",
       "      <td>00.15.C6.AE.50.C0</td>\n",
       "      <td>00.1B.17.00.01.10</td>\n",
       "      <td>148</td>\n",
       "    </tr>\n",
       "    <tr>\n",
       "      <th>1</th>\n",
       "      <td>1566277194</td>\n",
       "      <td>-757408882</td>\n",
       "      <td>-872586238</td>\n",
       "      <td>6</td>\n",
       "      <td>tcp null scan</td>\n",
       "      <td>00.15.C6.AE.50.C0</td>\n",
       "      <td>00.1B.17.00.01.10</td>\n",
       "      <td>148</td>\n",
       "    </tr>\n",
       "    <tr>\n",
       "      <th>2</th>\n",
       "      <td>1566277194</td>\n",
       "      <td>-757408878</td>\n",
       "      <td>-872586238</td>\n",
       "      <td>6</td>\n",
       "      <td>full xmas scan</td>\n",
       "      <td>00.15.C6.AE.50.C0</td>\n",
       "      <td>00.1B.17.00.01.10</td>\n",
       "      <td>148</td>\n",
       "    </tr>\n",
       "    <tr>\n",
       "      <th>3</th>\n",
       "      <td>1566277194</td>\n",
       "      <td>-757408884</td>\n",
       "      <td>-872586238</td>\n",
       "      <td>6</td>\n",
       "      <td>tcp null scan</td>\n",
       "      <td>00.15.C6.AE.50.C0</td>\n",
       "      <td>00.1B.17.00.01.10</td>\n",
       "      <td>148</td>\n",
       "    </tr>\n",
       "    <tr>\n",
       "      <th>4</th>\n",
       "      <td>1566277194</td>\n",
       "      <td>-757408874</td>\n",
       "      <td>-872586238</td>\n",
       "      <td>6</td>\n",
       "      <td>full xmas scan</td>\n",
       "      <td>00.15.C6.AE.50.C0</td>\n",
       "      <td>00.1B.17.00.01.10</td>\n",
       "      <td>148</td>\n",
       "    </tr>\n",
       "    <tr>\n",
       "      <th>5</th>\n",
       "      <td>1566277194</td>\n",
       "      <td>-757408883</td>\n",
       "      <td>-872586238</td>\n",
       "      <td>6</td>\n",
       "      <td>tcp null scan</td>\n",
       "      <td>00.15.C6.AE.50.C0</td>\n",
       "      <td>00.1B.17.00.01.10</td>\n",
       "      <td>148</td>\n",
       "    </tr>\n",
       "    <tr>\n",
       "      <th>6</th>\n",
       "      <td>1566277194</td>\n",
       "      <td>-757408878</td>\n",
       "      <td>-872586238</td>\n",
       "      <td>6</td>\n",
       "      <td>full xmas scan</td>\n",
       "      <td>00.15.C6.AE.50.C0</td>\n",
       "      <td>00.1B.17.00.01.10</td>\n",
       "      <td>148</td>\n",
       "    </tr>\n",
       "    <tr>\n",
       "      <th>7</th>\n",
       "      <td>1566277194</td>\n",
       "      <td>-757408874</td>\n",
       "      <td>-872586238</td>\n",
       "      <td>6</td>\n",
       "      <td>xmas scan</td>\n",
       "      <td>00.15.C6.AE.50.C0</td>\n",
       "      <td>00.1B.17.00.01.10</td>\n",
       "      <td>148</td>\n",
       "    </tr>\n",
       "    <tr>\n",
       "      <th>8</th>\n",
       "      <td>1566277194</td>\n",
       "      <td>-757408879</td>\n",
       "      <td>-872586238</td>\n",
       "      <td>6</td>\n",
       "      <td>full xmas scan</td>\n",
       "      <td>00.15.C6.AE.50.C0</td>\n",
       "      <td>00.1B.17.00.01.10</td>\n",
       "      <td>148</td>\n",
       "    </tr>\n",
       "    <tr>\n",
       "      <th>9</th>\n",
       "      <td>1566277194</td>\n",
       "      <td>-757408877</td>\n",
       "      <td>-872586238</td>\n",
       "      <td>6</td>\n",
       "      <td>xmas scan</td>\n",
       "      <td>00.15.C6.AE.50.C0</td>\n",
       "      <td>00.1B.17.00.01.10</td>\n",
       "      <td>148</td>\n",
       "    </tr>\n",
       "  </tbody>\n",
       "</table>\n",
       "</div>"
      ],
      "text/plain": [
       "   time_start  source_ip    dest_ip  protocol_n        STRTITLE  \\\n",
       "0  1566277194 -757408877 -872586238           6   tcp null scan   \n",
       "1  1566277194 -757408882 -872586238           6   tcp null scan   \n",
       "2  1566277194 -757408878 -872586238           6  full xmas scan   \n",
       "3  1566277194 -757408884 -872586238           6   tcp null scan   \n",
       "4  1566277194 -757408874 -872586238           6  full xmas scan   \n",
       "5  1566277194 -757408883 -872586238           6   tcp null scan   \n",
       "6  1566277194 -757408878 -872586238           6  full xmas scan   \n",
       "7  1566277194 -757408874 -872586238           6       xmas scan   \n",
       "8  1566277194 -757408879 -872586238           6  full xmas scan   \n",
       "9  1566277194 -757408877 -872586238           6       xmas scan   \n",
       "\n",
       "          source_mac           dest_mac  pkt_size  \n",
       "0  00.15.C6.AE.50.C0  00.1B.17.00.01.10       148  \n",
       "1  00.15.C6.AE.50.C0  00.1B.17.00.01.10       148  \n",
       "2  00.15.C6.AE.50.C0  00.1B.17.00.01.10       148  \n",
       "3  00.15.C6.AE.50.C0  00.1B.17.00.01.10       148  \n",
       "4  00.15.C6.AE.50.C0  00.1B.17.00.01.10       148  \n",
       "5  00.15.C6.AE.50.C0  00.1B.17.00.01.10       148  \n",
       "6  00.15.C6.AE.50.C0  00.1B.17.00.01.10       148  \n",
       "7  00.15.C6.AE.50.C0  00.1B.17.00.01.10       148  \n",
       "8  00.15.C6.AE.50.C0  00.1B.17.00.01.10       148  \n",
       "9  00.15.C6.AE.50.C0  00.1B.17.00.01.10       148  "
      ]
     },
     "execution_count": 4,
     "metadata": {},
     "output_type": "execute_result"
    }
   ],
   "source": [
    "records.head(10)"
   ]
  },
  {
   "cell_type": "markdown",
   "metadata": {},
   "source": [
    "<h1>패킷, 소스 ip 비교</h1>"
   ]
  },
  {
   "cell_type": "code",
   "execution_count": 5,
   "metadata": {},
   "outputs": [
    {
     "data": {
      "text/plain": [
       "<seaborn.axisgrid.FacetGrid at 0x62511b0>"
      ]
     },
     "execution_count": 5,
     "metadata": {},
     "output_type": "execute_result"
    },
    {
     "data": {
      "image/png": "[encoded data removed]",
      "text/plain": [
       "<Figure size 360x360 with 1 Axes>"
      ]
     },
     "metadata": {
      "needs_background": "light"
     },
     "output_type": "display_data"
    }
   ],
   "source": [
    "sns.lmplot('source_ip', 'pkt_size', data = records, fit_reg = False, scatter_kws={\"s\":100})"
   ]
  },
  {
   "cell_type": "code",
   "execution_count": 6,
   "metadata": {},
   "outputs": [
    {
     "data": {
      "text/html": [
       "<div>\n",
       "<style scoped>\n",
       "    .dataframe tbody tr th:only-of-type {\n",
       "        vertical-align: middle;\n",
       "    }\n",
       "\n",
       "    .dataframe tbody tr th {\n",
       "        vertical-align: top;\n",
       "    }\n",
       "\n",
       "    .dataframe thead th {\n",
       "        text-align: right;\n",
       "    }\n",
       "</style>\n",
       "<table border=\"1\" class=\"dataframe\">\n",
       "  <thead>\n",
       "    <tr style=\"text-align: right;\">\n",
       "      <th></th>\n",
       "      <th>time_start</th>\n",
       "      <th>source_ip</th>\n",
       "      <th>dest_ip</th>\n",
       "      <th>protocol_n</th>\n",
       "      <th>STRTITLE</th>\n",
       "      <th>source_mac</th>\n",
       "      <th>dest_mac</th>\n",
       "      <th>pkt_size</th>\n",
       "    </tr>\n",
       "  </thead>\n",
       "  <tbody>\n",
       "    <tr>\n",
       "      <th>126704</th>\n",
       "      <td>1566280125</td>\n",
       "      <td>-757408884</td>\n",
       "      <td>-872586238</td>\n",
       "      <td>6</td>\n",
       "      <td>tcp syn flooding</td>\n",
       "      <td>00.15.C6.AE.50.C0</td>\n",
       "      <td>00.1B.17.00.01.10</td>\n",
       "      <td>28928</td>\n",
       "    </tr>\n",
       "    <tr>\n",
       "      <th>168287</th>\n",
       "      <td>1566280153</td>\n",
       "      <td>-757408877</td>\n",
       "      <td>-872586238</td>\n",
       "      <td>6</td>\n",
       "      <td>tcp syn flooding</td>\n",
       "      <td>00.15.C6.AE.50.C0</td>\n",
       "      <td>00.1B.17.00.01.10</td>\n",
       "      <td>28840</td>\n",
       "    </tr>\n",
       "  </tbody>\n",
       "</table>\n",
       "</div>"
      ],
      "text/plain": [
       "        time_start  source_ip    dest_ip  protocol_n          STRTITLE  \\\n",
       "126704  1566280125 -757408884 -872586238           6  tcp syn flooding   \n",
       "168287  1566280153 -757408877 -872586238           6  tcp syn flooding   \n",
       "\n",
       "               source_mac           dest_mac  pkt_size  \n",
       "126704  00.15.C6.AE.50.C0  00.1B.17.00.01.10     28928  \n",
       "168287  00.15.C6.AE.50.C0  00.1B.17.00.01.10     28840  "
      ]
     },
     "execution_count": 6,
     "metadata": {},
     "output_type": "execute_result"
    }
   ],
   "source": [
    "records[records['pkt_size'] >= 1000]"
   ]
  },
  {
   "cell_type": "code",
   "execution_count": 7,
   "metadata": {},
   "outputs": [
    {
     "data": {
      "text/plain": [
       "<seaborn.axisgrid.FacetGrid at 0x259d6450>"
      ]
     },
     "execution_count": 7,
     "metadata": {},
     "output_type": "execute_result"
    },
    {
     "data": {
      "image/png": "[encoded data removed]",
      "text/plain": [
       "<Figure size 360x360 with 1 Axes>"
      ]
     },
     "metadata": {
      "needs_background": "light"
     },
     "output_type": "display_data"
    }
   ],
   "source": [
    "sns.lmplot('source_ip', 'pkt_size', data = records[records['pkt_size'] <= 1000], fit_reg = False, scatter_kws={\"s\":100})"
   ]
  },
  {
   "cell_type": "code",
   "execution_count": 8,
   "metadata": {},
   "outputs": [
    {
     "data": {
      "text/plain": [
       "<seaborn.axisgrid.FacetGrid at 0x251eab10>"
      ]
     },
     "execution_count": 8,
     "metadata": {},
     "output_type": "execute_result"
    },
    {
     "data": {
      "image/png": "[encoded data removed]",
      "text/plain": [
       "<Figure size 360x360 with 1 Axes>"
      ]
     },
     "metadata": {
      "needs_background": "light"
     },
     "output_type": "display_data"
    }
   ],
   "source": [
    "sns.lmplot('source_ip', 'pkt_size', data = records[records['pkt_size'] >= 1000], fit_reg = False, scatter_kws={\"s\":100})"
   ]
  },
  {
   "cell_type": "code",
   "execution_count": 9,
   "metadata": {},
   "outputs": [
    {
     "data": {
      "text/plain": [
       "array(['tcp null scan', 'full xmas scan', 'xmas scan', 'tcp syn flooding'],\n",
       "      dtype=object)"
      ]
     },
     "execution_count": 9,
     "metadata": {},
     "output_type": "execute_result"
    }
   ],
   "source": [
    "pd.unique(records['STRTITLE'].values)"
   ]
  },
  {
   "cell_type": "code",
   "execution_count": 10,
   "metadata": {},
   "outputs": [
    {
     "data": {
      "text/plain": [
       "array([  148,    74,   370,   222,   296,   444,   518,   592, 28928,\n",
       "       28840], dtype=int64)"
      ]
     },
     "execution_count": 10,
     "metadata": {},
     "output_type": "execute_result"
    }
   ],
   "source": [
    "pd.unique(records['pkt_size'].values)"
   ]
  },
  {
   "cell_type": "code",
   "execution_count": 11,
   "metadata": {},
   "outputs": [
    {
     "data": {
      "text/plain": [
       "<seaborn.axisgrid.FacetGrid at 0x24fece50>"
      ]
     },
     "execution_count": 11,
     "metadata": {},
     "output_type": "execute_result"
    },
    {
     "data": {
      "image/png": "[encoded data removed]",
      "text/plain": [
       "<Figure size 360x360 with 1 Axes>"
      ]
     },
     "metadata": {
      "needs_background": "light"
     },
     "output_type": "display_data"
    }
   ],
   "source": [
    "sns.lmplot('source_ip', 'pkt_size', data = records[records['STRTITLE']=='tcp syn flooding'], fit_reg = False, scatter_kws={\"s\":100})"
   ]
  },
  {
   "cell_type": "code",
   "execution_count": 12,
   "metadata": {
    "scrolled": false
   },
   "outputs": [
    {
     "data": {
      "text/plain": [
       "<seaborn.axisgrid.FacetGrid at 0x24bf37b0>"
      ]
     },
     "execution_count": 12,
     "metadata": {},
     "output_type": "execute_result"
    },
    {
     "data": {
      "image/png": "[encoded data removed]",
      "text/plain": [
       "<Figure size 360x360 with 1 Axes>"
      ]
     },
     "metadata": {
      "needs_background": "light"
     },
     "output_type": "display_data"
    }
   ],
   "source": [
    "sns.lmplot('source_ip', 'pkt_size', data = records[records['STRTITLE']=='xmas scan'], fit_reg = False, scatter_kws={\"s\":100})"
   ]
  },
  {
   "cell_type": "code",
   "execution_count": 13,
   "metadata": {
    "scrolled": false
   },
   "outputs": [
    {
     "data": {
      "text/plain": [
       "<seaborn.axisgrid.FacetGrid at 0x24a1f310>"
      ]
     },
     "execution_count": 13,
     "metadata": {},
     "output_type": "execute_result"
    },
    {
     "data": {
      "image/png": "[encoded data removed]",
      "text/plain": [
       "<Figure size 360x360 with 1 Axes>"
      ]
     },
     "metadata": {
      "needs_background": "light"
     },
     "output_type": "display_data"
    }
   ],
   "source": [
    "sns.lmplot('source_ip', 'pkt_size', data = records[records['STRTITLE']=='tcp null scan'], fit_reg = False, scatter_kws={\"s\":100})"
   ]
  },
  {
   "cell_type": "code",
   "execution_count": 14,
   "metadata": {},
   "outputs": [
    {
     "data": {
      "text/plain": [
       "<seaborn.axisgrid.FacetGrid at 0x248d7ab0>"
      ]
     },
     "execution_count": 14,
     "metadata": {},
     "output_type": "execute_result"
    },
    {
     "data": {
      "image/png": "[encoded data removed]",
      "text/plain": [
       "<Figure size 360x360 with 1 Axes>"
      ]
     },
     "metadata": {
      "needs_background": "light"
     },
     "output_type": "display_data"
    }
   ],
   "source": [
    "sns.lmplot('source_ip', 'pkt_size', data = records[records['STRTITLE']=='full xmas scan'], fit_reg = False, scatter_kws={\"s\":100})"
   ]
  },
  {
   "cell_type": "markdown",
   "metadata": {},
   "source": [
    "<h1>시간순 비교</h1>"
   ]
  },
  {
   "cell_type": "code",
   "execution_count": 15,
   "metadata": {},
   "outputs": [
    {
     "data": {
      "text/plain": [
       "array([-757408877, -757408882, -757408878, -757408884, -757408874,\n",
       "       -757408883, -757408879, -757408881, -757408875, -757408880,\n",
       "       -757408876], dtype=int64)"
      ]
     },
     "execution_count": 15,
     "metadata": {},
     "output_type": "execute_result"
    }
   ],
   "source": [
    "pd.unique(records['source_ip'].values)"
   ]
  },
  {
   "cell_type": "code",
   "execution_count": 16,
   "metadata": {},
   "outputs": [
    {
     "data": {
      "text/plain": [
       "<seaborn.axisgrid.FacetGrid at 0x2455da30>"
      ]
     },
     "execution_count": 16,
     "metadata": {},
     "output_type": "execute_result"
    },
    {
     "data": {
      "image/png": "[encoded data removed]",
      "text/plain": [
       "<Figure size 360x360 with 1 Axes>"
      ]
     },
     "metadata": {
      "needs_background": "light"
     },
     "output_type": "display_data"
    }
   ],
   "source": [
    "sns.lmplot('time_start','source_ip', data = records, fit_reg = False, scatter_kws={\"s\":100})"
   ]
  },
  {
   "cell_type": "code",
   "execution_count": 17,
   "metadata": {},
   "outputs": [
    {
     "data": {
      "text/plain": [
       "<seaborn.axisgrid.FacetGrid at 0x243723b0>"
      ]
     },
     "execution_count": 17,
     "metadata": {},
     "output_type": "execute_result"
    },
    {
     "data": {
      "image/png": "[encoded data removed]",
      "text/plain": [
       "<Figure size 360x360 with 1 Axes>"
      ]
     },
     "metadata": {
      "needs_background": "light"
     },
     "output_type": "display_data"
    }
   ],
   "source": [
    "sns.lmplot('time_start','source_ip', data = records[records['STRTITLE']=='full xmas scan'], fit_reg = False, scatter_kws={\"s\":100})"
   ]
  },
  {
   "cell_type": "code",
   "execution_count": 18,
   "metadata": {},
   "outputs": [
    {
     "data": {
      "text/plain": [
       "<seaborn.axisgrid.FacetGrid at 0x23fb28f0>"
      ]
     },
     "execution_count": 18,
     "metadata": {},
     "output_type": "execute_result"
    },
    {
     "data": {
      "image/png": "[encoded data removed]",
      "text/plain": [
       "<Figure size 360x360 with 1 Axes>"
      ]
     },
     "metadata": {
      "needs_background": "light"
     },
     "output_type": "display_data"
    }
   ],
   "source": [
    "sns.lmplot('time_start','source_ip', data = records[records['STRTITLE']=='tcp null scan'], fit_reg = False, scatter_kws={\"s\":100})"
   ]
  },
  {
   "cell_type": "code",
   "execution_count": 19,
   "metadata": {},
   "outputs": [
    {
     "data": {
      "text/plain": [
       "<seaborn.axisgrid.FacetGrid at 0x23d825b0>"
      ]
     },
     "execution_count": 19,
     "metadata": {},
     "output_type": "execute_result"
    },
    {
     "data": {
      "image/png": "[encoded data removed]",
      "text/plain": [
       "<Figure size 360x360 with 1 Axes>"
      ]
     },
     "metadata": {
      "needs_background": "light"
     },
     "output_type": "display_data"
    }
   ],
   "source": [
    "sns.lmplot('time_start','source_ip', data = records[records['STRTITLE']=='tcp syn flooding'], fit_reg = False, scatter_kws={\"s\":100})"
   ]
  },
  {
   "cell_type": "code",
   "execution_count": 20,
   "metadata": {},
   "outputs": [
    {
     "data": {
      "text/plain": [
       "<seaborn.axisgrid.FacetGrid at 0x23b52430>"
      ]
     },
     "execution_count": 20,
     "metadata": {},
     "output_type": "execute_result"
    },
    {
     "data": {
      "image/png": "[encoded data removed]",
      "text/plain": [
       "<Figure size 360x360 with 1 Axes>"
      ]
     },
     "metadata": {
      "needs_background": "light"
     },
     "output_type": "display_data"
    }
   ],
   "source": [
    "sns.lmplot('time_start','source_ip', data = records[records['source_ip']==-757408877], fit_reg = False, scatter_kws={\"s\":100})"
   ]
  },
  {
   "cell_type": "code",
   "execution_count": 21,
   "metadata": {},
   "outputs": [],
   "source": [
    "points = records.values"
   ]
  },
  {
   "cell_type": "code",
   "execution_count": 22,
   "metadata": {},
   "outputs": [
    {
     "data": {
      "text/plain": [
       "array([[1566277194, -757408877, -872586238, ..., '00.15.C6.AE.50.C0',\n",
       "        '00.1B.17.00.01.10', 148],\n",
       "       [1566277194, -757408882, -872586238, ..., '00.15.C6.AE.50.C0',\n",
       "        '00.1B.17.00.01.10', 148],\n",
       "       [1566277194, -757408878, -872586238, ..., '00.15.C6.AE.50.C0',\n",
       "        '00.1B.17.00.01.10', 148],\n",
       "       ...,\n",
       "       [1566279996, -757408877, -872586238, ..., '00.15.C6.AE.50.C0',\n",
       "        '00.1B.17.00.01.10', 148],\n",
       "       [1566279996, -757408880, -872586238, ..., '00.15.C6.AE.50.C0',\n",
       "        '00.1B.17.00.01.10', 148],\n",
       "       [1566279996, -757408875, -872586238, ..., '00.15.C6.AE.50.C0',\n",
       "        '00.1B.17.00.01.10', 148]], dtype=object)"
      ]
     },
     "execution_count": 22,
     "metadata": {},
     "output_type": "execute_result"
    }
   ],
   "source": [
    "points"
   ]
  },
  {
   "cell_type": "code",
   "execution_count": 23,
   "metadata": {},
   "outputs": [
    {
     "data": {
      "text/plain": [
       "0         1\n",
       "1         1\n",
       "2         0\n",
       "3         1\n",
       "4         0\n",
       "         ..\n",
       "177066    3\n",
       "177067    0\n",
       "177068    0\n",
       "177069    3\n",
       "177070    3\n",
       "Length: 177071, dtype: int8"
      ]
     },
     "execution_count": 23,
     "metadata": {},
     "output_type": "execute_result"
    }
   ],
   "source": [
    "records['STRTITLE'].astype('category').cat.codes"
   ]
  },
  {
   "cell_type": "code",
   "execution_count": 24,
   "metadata": {},
   "outputs": [
    {
     "data": {
      "text/html": [
       "<div>\n",
       "<style scoped>\n",
       "    .dataframe tbody tr th:only-of-type {\n",
       "        vertical-align: middle;\n",
       "    }\n",
       "\n",
       "    .dataframe tbody tr th {\n",
       "        vertical-align: top;\n",
       "    }\n",
       "\n",
       "    .dataframe thead th {\n",
       "        text-align: right;\n",
       "    }\n",
       "</style>\n",
       "<table border=\"1\" class=\"dataframe\">\n",
       "  <thead>\n",
       "    <tr style=\"text-align: right;\">\n",
       "      <th></th>\n",
       "      <th>full xmas scan</th>\n",
       "      <th>tcp null scan</th>\n",
       "      <th>tcp syn flooding</th>\n",
       "      <th>xmas scan</th>\n",
       "    </tr>\n",
       "  </thead>\n",
       "  <tbody>\n",
       "    <tr>\n",
       "      <th>0</th>\n",
       "      <td>0</td>\n",
       "      <td>1</td>\n",
       "      <td>0</td>\n",
       "      <td>0</td>\n",
       "    </tr>\n",
       "    <tr>\n",
       "      <th>1</th>\n",
       "      <td>0</td>\n",
       "      <td>1</td>\n",
       "      <td>0</td>\n",
       "      <td>0</td>\n",
       "    </tr>\n",
       "    <tr>\n",
       "      <th>2</th>\n",
       "      <td>1</td>\n",
       "      <td>0</td>\n",
       "      <td>0</td>\n",
       "      <td>0</td>\n",
       "    </tr>\n",
       "    <tr>\n",
       "      <th>3</th>\n",
       "      <td>0</td>\n",
       "      <td>1</td>\n",
       "      <td>0</td>\n",
       "      <td>0</td>\n",
       "    </tr>\n",
       "    <tr>\n",
       "      <th>4</th>\n",
       "      <td>1</td>\n",
       "      <td>0</td>\n",
       "      <td>0</td>\n",
       "      <td>0</td>\n",
       "    </tr>\n",
       "    <tr>\n",
       "      <th>...</th>\n",
       "      <td>...</td>\n",
       "      <td>...</td>\n",
       "      <td>...</td>\n",
       "      <td>...</td>\n",
       "    </tr>\n",
       "    <tr>\n",
       "      <th>177066</th>\n",
       "      <td>0</td>\n",
       "      <td>0</td>\n",
       "      <td>0</td>\n",
       "      <td>1</td>\n",
       "    </tr>\n",
       "    <tr>\n",
       "      <th>177067</th>\n",
       "      <td>1</td>\n",
       "      <td>0</td>\n",
       "      <td>0</td>\n",
       "      <td>0</td>\n",
       "    </tr>\n",
       "    <tr>\n",
       "      <th>177068</th>\n",
       "      <td>1</td>\n",
       "      <td>0</td>\n",
       "      <td>0</td>\n",
       "      <td>0</td>\n",
       "    </tr>\n",
       "    <tr>\n",
       "      <th>177069</th>\n",
       "      <td>0</td>\n",
       "      <td>0</td>\n",
       "      <td>0</td>\n",
       "      <td>1</td>\n",
       "    </tr>\n",
       "    <tr>\n",
       "      <th>177070</th>\n",
       "      <td>0</td>\n",
       "      <td>0</td>\n",
       "      <td>0</td>\n",
       "      <td>1</td>\n",
       "    </tr>\n",
       "  </tbody>\n",
       "</table>\n",
       "<p>177071 rows × 4 columns</p>\n",
       "</div>"
      ],
      "text/plain": [
       "        full xmas scan  tcp null scan  tcp syn flooding  xmas scan\n",
       "0                    0              1                 0          0\n",
       "1                    0              1                 0          0\n",
       "2                    1              0                 0          0\n",
       "3                    0              1                 0          0\n",
       "4                    1              0                 0          0\n",
       "...                ...            ...               ...        ...\n",
       "177066               0              0                 0          1\n",
       "177067               1              0                 0          0\n",
       "177068               1              0                 0          0\n",
       "177069               0              0                 0          1\n",
       "177070               0              0                 0          1\n",
       "\n",
       "[177071 rows x 4 columns]"
      ]
     },
     "execution_count": 24,
     "metadata": {},
     "output_type": "execute_result"
    }
   ],
   "source": [
    "pd.get_dummies(records['STRTITLE'])"
   ]
  },
  {
   "cell_type": "code",
   "execution_count": null,
   "metadata": {},
   "outputs": [],
   "source": []
  },
  {
   "cell_type": "code",
   "execution_count": 25,
   "metadata": {},
   "outputs": [
    {
     "data": {
      "text/html": [
       "<div>\n",
       "<style scoped>\n",
       "    .dataframe tbody tr th:only-of-type {\n",
       "        vertical-align: middle;\n",
       "    }\n",
       "\n",
       "    .dataframe tbody tr th {\n",
       "        vertical-align: top;\n",
       "    }\n",
       "\n",
       "    .dataframe thead th {\n",
       "        text-align: right;\n",
       "    }\n",
       "</style>\n",
       "<table border=\"1\" class=\"dataframe\">\n",
       "  <thead>\n",
       "    <tr style=\"text-align: right;\">\n",
       "      <th></th>\n",
       "      <th>time_start</th>\n",
       "      <th>source_ip</th>\n",
       "      <th>dest_ip</th>\n",
       "      <th>protocol_n</th>\n",
       "      <th>pkt_size</th>\n",
       "    </tr>\n",
       "  </thead>\n",
       "  <tbody>\n",
       "    <tr>\n",
       "      <th>time_start</th>\n",
       "      <td>1.000000</td>\n",
       "      <td>0.002147</td>\n",
       "      <td>NaN</td>\n",
       "      <td>NaN</td>\n",
       "      <td>0.009390</td>\n",
       "    </tr>\n",
       "    <tr>\n",
       "      <th>source_ip</th>\n",
       "      <td>0.002147</td>\n",
       "      <td>1.000000</td>\n",
       "      <td>NaN</td>\n",
       "      <td>NaN</td>\n",
       "      <td>-0.001131</td>\n",
       "    </tr>\n",
       "    <tr>\n",
       "      <th>dest_ip</th>\n",
       "      <td>NaN</td>\n",
       "      <td>NaN</td>\n",
       "      <td>NaN</td>\n",
       "      <td>NaN</td>\n",
       "      <td>NaN</td>\n",
       "    </tr>\n",
       "    <tr>\n",
       "      <th>protocol_n</th>\n",
       "      <td>NaN</td>\n",
       "      <td>NaN</td>\n",
       "      <td>NaN</td>\n",
       "      <td>NaN</td>\n",
       "      <td>NaN</td>\n",
       "    </tr>\n",
       "    <tr>\n",
       "      <th>pkt_size</th>\n",
       "      <td>0.009390</td>\n",
       "      <td>-0.001131</td>\n",
       "      <td>NaN</td>\n",
       "      <td>NaN</td>\n",
       "      <td>1.000000</td>\n",
       "    </tr>\n",
       "  </tbody>\n",
       "</table>\n",
       "</div>"
      ],
      "text/plain": [
       "            time_start  source_ip  dest_ip  protocol_n  pkt_size\n",
       "time_start    1.000000   0.002147      NaN         NaN  0.009390\n",
       "source_ip     0.002147   1.000000      NaN         NaN -0.001131\n",
       "dest_ip            NaN        NaN      NaN         NaN       NaN\n",
       "protocol_n         NaN        NaN      NaN         NaN       NaN\n",
       "pkt_size      0.009390  -0.001131      NaN         NaN  1.000000"
      ]
     },
     "execution_count": 25,
     "metadata": {},
     "output_type": "execute_result"
    }
   ],
   "source": [
    "records.corr() #연관정도 1이 연관 높은것, 의미있는값은 안나옴"
   ]
  },
  {
   "cell_type": "code",
   "execution_count": 26,
   "metadata": {},
   "outputs": [
    {
     "data": {
      "text/plain": [
       "array([-757408877, -757408882, -757408878, -757408884, -757408874,\n",
       "       -757408883, -757408879, -757408881, -757408875, -757408880,\n",
       "       -757408876], dtype=int64)"
      ]
     },
     "execution_count": 26,
     "metadata": {},
     "output_type": "execute_result"
    }
   ],
   "source": [
    "pd.unique(records['source_ip'].values)"
   ]
  },
  {
   "cell_type": "code",
   "execution_count": 27,
   "metadata": {},
   "outputs": [
    {
     "data": {
      "text/plain": [
       "array(['00.15.C6.AE.50.C0'], dtype=object)"
      ]
     },
     "execution_count": 27,
     "metadata": {},
     "output_type": "execute_result"
    }
   ],
   "source": [
    "pd.unique(records['source_mac'].values)"
   ]
  },
  {
   "cell_type": "code",
   "execution_count": null,
   "metadata": {},
   "outputs": [],
   "source": []
  }
 ],
 "metadata": {
  "kernelspec": {
   "display_name": "Python 3",
   "language": "python",
   "name": "python3"
  },
  "language_info": {
   "codemirror_mode": {
    "name": "ipython",
    "version": 3
   },
   "file_extension": ".py",
   "mimetype": "text/x-python",
   "name": "python",
   "nbconvert_exporter": "python",
   "pygments_lexer": "ipython3",
   "version": "3.7.6"
  }
 },
 "nbformat": 4,
 "nbformat_minor": 4
}
